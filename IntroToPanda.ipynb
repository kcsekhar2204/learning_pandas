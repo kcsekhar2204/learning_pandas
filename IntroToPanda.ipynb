{
  "nbformat": 4,
  "nbformat_minor": 0,
  "metadata": {
    "colab": {
      "provenance": [],
      "authorship_tag": "ABX9TyOn+ZQgTOK7/lWbg6/Ix/y3",
      "include_colab_link": true
    },
    "kernelspec": {
      "name": "python3",
      "display_name": "Python 3"
    },
    "language_info": {
      "name": "python"
    }
  },
  "cells": [
    {
      "cell_type": "markdown",
      "metadata": {
        "id": "view-in-github",
        "colab_type": "text"
      },
      "source": [
        "<a href=\"https://colab.research.google.com/github/kcsekhar2204/learning_pandas/blob/main/IntroToPanda.ipynb\" target=\"_parent\"><img src=\"https://colab.research.google.com/assets/colab-badge.svg\" alt=\"Open In Colab\"/></a>"
      ]
    },
    {
      "cell_type": "markdown",
      "source": [
        "#Introduction"
      ],
      "metadata": {
        "id": "9rvJtV5rpHKV"
      }
    },
    {
      "cell_type": "markdown",
      "source": [
        "**Installation** : pip install panda\n",
        "\n",
        "**How to use** : import panda (import this panda in your file)"
      ],
      "metadata": {
        "id": "Hdn3DQoe3MCb"
      }
    },
    {
      "cell_type": "code",
      "source": [
        "!pip install pandas"
      ],
      "metadata": {
        "colab": {
          "base_uri": "https://localhost:8080/"
        },
        "id": "D6DeIr5X3q2g",
        "outputId": "dafd2593-3267-4fd0-8b1b-c774d40d5772"
      },
      "execution_count": null,
      "outputs": [
        {
          "output_type": "stream",
          "name": "stdout",
          "text": [
            "Requirement already satisfied: pandas in /usr/local/lib/python3.11/dist-packages (2.2.2)\n",
            "Requirement already satisfied: numpy>=1.23.2 in /usr/local/lib/python3.11/dist-packages (from pandas) (2.0.2)\n",
            "Requirement already satisfied: python-dateutil>=2.8.2 in /usr/local/lib/python3.11/dist-packages (from pandas) (2.9.0.post0)\n",
            "Requirement already satisfied: pytz>=2020.1 in /usr/local/lib/python3.11/dist-packages (from pandas) (2025.2)\n",
            "Requirement already satisfied: tzdata>=2022.7 in /usr/local/lib/python3.11/dist-packages (from pandas) (2025.2)\n",
            "Requirement already satisfied: six>=1.5 in /usr/local/lib/python3.11/dist-packages (from python-dateutil>=2.8.2->pandas) (1.17.0)\n"
          ]
        }
      ]
    },
    {
      "cell_type": "code",
      "source": [
        "print(pd.__version__)"
      ],
      "metadata": {
        "colab": {
          "base_uri": "https://localhost:8080/"
        },
        "id": "5bTQrOk84nKl",
        "outputId": "20998507-0ac3-476e-b642-9d2e592e4575"
      },
      "execution_count": null,
      "outputs": [
        {
          "output_type": "stream",
          "name": "stdout",
          "text": [
            "2.2.2\n"
          ]
        }
      ]
    },
    {
      "cell_type": "code",
      "source": [
        "import pandas as pd"
      ],
      "metadata": {
        "id": "0yxnN8oP36bn"
      },
      "execution_count": null,
      "outputs": []
    },
    {
      "cell_type": "code",
      "source": [
        "# Series (only one column)\n",
        "a = [1, 7, 2]\n",
        "myvar = pd.Series(a)\n",
        "print(myvar, end='\\n\\n')\n",
        "\n",
        "# with index defined\n",
        "myvar = pd.Series(a, index=['a','b','c'])\n",
        "print(myvar, end='\\n\\n')\n",
        "\n",
        "#for key value pair\n",
        "calories = {\"day1\": 420, \"day2\": 380, \"day3\": 390}\n",
        "myvar = pd.Series(calories)\n",
        "print(myvar, end='\\n\\n')\n",
        "\n",
        "#for only few to show\n",
        "myvar = pd.Series(calories, index = [\"day1\", \"day2\"])\n",
        "print(myvar)"
      ],
      "metadata": {
        "colab": {
          "base_uri": "https://localhost:8080/"
        },
        "id": "gBsCh5ou4qU_",
        "outputId": "c70aa522-2b47-4340-e176-5569478968a4"
      },
      "execution_count": null,
      "outputs": [
        {
          "output_type": "stream",
          "name": "stdout",
          "text": [
            "0    1\n",
            "1    7\n",
            "2    2\n",
            "dtype: int64\n",
            "\n",
            "a    1\n",
            "b    7\n",
            "c    2\n",
            "dtype: int64\n",
            "\n",
            "day1    420\n",
            "day2    380\n",
            "day3    390\n",
            "dtype: int64\n",
            "\n",
            "day1    420\n",
            "day2    380\n",
            "dtype: int64\n"
          ]
        }
      ]
    },
    {
      "cell_type": "code",
      "source": [
        "#DataFrame for key list pair\n",
        "data = {\n",
        "  \"calories\": [420, 380, 390],\n",
        "  \"duration\": [50, 40, 45]\n",
        "}\n",
        "df = pd.DataFrame(data)\n",
        "print(df)"
      ],
      "metadata": {
        "colab": {
          "base_uri": "https://localhost:8080/"
        },
        "id": "0yaQmFy_g3lj",
        "outputId": "e833a99c-c43a-4d26-df87-d1f5357550aa"
      },
      "execution_count": null,
      "outputs": [
        {
          "output_type": "stream",
          "name": "stdout",
          "text": [
            "   calories  duration\n",
            "0       420        50\n",
            "1       380        40\n",
            "2       390        45\n"
          ]
        }
      ]
    },
    {
      "cell_type": "markdown",
      "source": [
        "**Rename of a column**"
      ],
      "metadata": {
        "id": "9TU48E3mrXLy"
      }
    },
    {
      "cell_type": "code",
      "source": [
        "df.rename(columns = {'duration':'time'}, inplace = True)\n",
        "print(df)"
      ],
      "metadata": {
        "colab": {
          "base_uri": "https://localhost:8080/"
        },
        "id": "ANWS0fDvrVDB",
        "outputId": "6cda01bf-7c97-41ae-f27e-41906e831aef"
      },
      "execution_count": null,
      "outputs": [
        {
          "output_type": "stream",
          "name": "stdout",
          "text": [
            "   calories  time\n",
            "0       420    50\n",
            "1       380    40\n",
            "2       390    45\n"
          ]
        }
      ]
    },
    {
      "cell_type": "code",
      "source": [
        "# Dataframe for list\n",
        "student_data = [[1, 15],[2, 11],[3, 11],[4, 20]]\n",
        "df = pd.DataFrame(student_data, columns=['student_id','age'])\n",
        "print(df)"
      ],
      "metadata": {
        "colab": {
          "base_uri": "https://localhost:8080/"
        },
        "id": "WAaDF0RC4EgZ",
        "outputId": "3baba0d9-3ec3-4b32-fa04-5b43157f479f"
      },
      "execution_count": null,
      "outputs": [
        {
          "output_type": "stream",
          "name": "stdout",
          "text": [
            "   student_id  age\n",
            "0           1   15\n",
            "1           2   11\n",
            "2           3   11\n",
            "3           4   20\n"
          ]
        }
      ]
    },
    {
      "cell_type": "markdown",
      "source": [
        "**Locate Row**\n",
        "\n",
        "Pandas use the loc attribute to return one or more specified row(s)"
      ],
      "metadata": {
        "id": "QK84eMJOFgBM"
      }
    },
    {
      "cell_type": "code",
      "source": [
        "print(df.loc[0], end='\\n\\n')\n",
        "\n",
        "#use a list of indexes:\n",
        "print(df.loc[[2, 1]])"
      ],
      "metadata": {
        "colab": {
          "base_uri": "https://localhost:8080/"
        },
        "id": "yZ6IOiOoFwcR",
        "outputId": "81cff1ea-9941-444c-9ce2-75fd07382f8f"
      },
      "execution_count": null,
      "outputs": [
        {
          "output_type": "stream",
          "name": "stdout",
          "text": [
            "student_id     1\n",
            "age           15\n",
            "Name: 0, dtype: int64\n",
            "\n",
            "   student_id  age\n",
            "2           3   11\n",
            "1           2   11\n"
          ]
        }
      ]
    },
    {
      "cell_type": "code",
      "source": [
        "#To get specific student details\n",
        "print(df.loc[df['student_id'] == 4, [\"age\"]], end='\\n\\n') # particular column details\n",
        "# or\n",
        "print(df.loc[df['student_id'] < 4, :]) # all column details"
      ],
      "metadata": {
        "colab": {
          "base_uri": "https://localhost:8080/"
        },
        "id": "muIMzCachXSM",
        "outputId": "e1ae7d6e-a7c2-42dc-bee6-a4a68f3c9919"
      },
      "execution_count": null,
      "outputs": [
        {
          "output_type": "stream",
          "name": "stdout",
          "text": [
            "   age\n",
            "3   20\n",
            "\n",
            "   student_id  age\n",
            "0           1   15\n",
            "1           2   11\n",
            "2           3   11\n"
          ]
        }
      ]
    },
    {
      "cell_type": "code",
      "source": [
        "print(df.sort_values(['age']))"
      ],
      "metadata": {
        "colab": {
          "base_uri": "https://localhost:8080/"
        },
        "id": "bXmmaqaiS9Aa",
        "outputId": "40655a71-b7aa-4dfc-e6ef-7aeb51fdc16d"
      },
      "execution_count": null,
      "outputs": [
        {
          "output_type": "stream",
          "name": "stdout",
          "text": [
            "   student_id  age\n",
            "1           2   11\n",
            "2           3   11\n",
            "0           1   15\n",
            "3           4   20\n"
          ]
        }
      ]
    },
    {
      "cell_type": "markdown",
      "source": [
        "**Dimensions of Table**"
      ],
      "metadata": {
        "id": "AqkFTO64Gy6m"
      }
    },
    {
      "cell_type": "code",
      "source": [
        "# To get row*column dimension\n",
        "print(list(df.shape))"
      ],
      "metadata": {
        "colab": {
          "base_uri": "https://localhost:8080/"
        },
        "id": "tqu7Fr-JGlw4",
        "outputId": "93e911d2-f870-4b29-8afc-4bfe37b5baab"
      },
      "execution_count": null,
      "outputs": [
        {
          "output_type": "stream",
          "name": "stdout",
          "text": [
            "[4, 2]\n"
          ]
        }
      ]
    },
    {
      "cell_type": "markdown",
      "source": [
        "**Load files into DF from drive and url**"
      ],
      "metadata": {
        "id": "M94yfwnRJhug"
      }
    },
    {
      "cell_type": "code",
      "source": [
        "from google.colab import drive\n",
        "drive.mount('/content/drive')"
      ],
      "metadata": {
        "colab": {
          "base_uri": "https://localhost:8080/"
        },
        "id": "0KIQaeiPKetm",
        "outputId": "017f715c-6251-41c7-8c8a-f0ccd80fc6eb"
      },
      "execution_count": null,
      "outputs": [
        {
          "output_type": "stream",
          "name": "stdout",
          "text": [
            "Mounted at /content/drive\n"
          ]
        }
      ]
    },
    {
      "cell_type": "code",
      "source": [
        "file_path = '/content/drive/My Drive/Colab Notebooks/sample_data.csv'\n",
        "df = pd.read_csv(file_path)\n",
        "print(df)"
      ],
      "metadata": {
        "colab": {
          "base_uri": "https://localhost:8080/"
        },
        "id": "uOQCvM7CLK3R",
        "outputId": "33db98f8-e590-44d6-8836-abb42f6c50a6"
      },
      "execution_count": null,
      "outputs": [
        {
          "output_type": "stream",
          "name": "stdout",
          "text": [
            "       id firstname   lastname                         email\n",
            "0     100     Jolyn    Aurelio     Jolyn.Aurelio@yopmail.com\n",
            "1     101    Jaclyn      Burch      Jaclyn.Burch@yopmail.com\n",
            "2     102      Bill  Hortensia    Bill.Hortensia@yopmail.com\n",
            "3     103   Frances   Valoniah  Frances.Valoniah@yopmail.com\n",
            "4     104     Fawne    Ophelia     Fawne.Ophelia@yopmail.com\n",
            "..    ...       ...        ...                           ...\n",
            "995  1095    Keelia     Daegal     Keelia.Daegal@yopmail.com\n",
            "996  1096     Liana   Nicoline    Liana.Nicoline@yopmail.com\n",
            "997  1097    Gisela         An         Gisela.An@yopmail.com\n",
            "998  1098    Gratia    Jacobah    Gratia.Jacobah@yopmail.com\n",
            "999  1099    Gratia   Sikorski   Gratia.Sikorski@yopmail.com\n",
            "\n",
            "[1000 rows x 4 columns]\n"
          ]
        }
      ]
    },
    {
      "cell_type": "code",
      "source": [
        "# if url\n",
        "url = 'https://drive.google.com/file/d/1AIxpU_rdDsALypcZiEI8fj9B-4C52hos/view?usp=sharing'\n",
        "\n",
        "# google drive doenot give direct raw url therefore changing it into as our requirement\n",
        "export_url = 'https://drive.google.com/uc?export=download&id=1AIxpU_rdDsALypcZiEI8fj9B-4C52hos'\n",
        "\n",
        "df = pd.read_csv(export_url)\n",
        "print(df)"
      ],
      "metadata": {
        "colab": {
          "base_uri": "https://localhost:8080/"
        },
        "id": "RxxV26uVNzb1",
        "outputId": "6729ea94-a41c-44c3-8906-2551fbce034d"
      },
      "execution_count": null,
      "outputs": [
        {
          "output_type": "stream",
          "name": "stdout",
          "text": [
            "       id firstname   lastname                         email\n",
            "0     100     Jolyn    Aurelio     Jolyn.Aurelio@yopmail.com\n",
            "1     101    Jaclyn      Burch      Jaclyn.Burch@yopmail.com\n",
            "2     102      Bill  Hortensia    Bill.Hortensia@yopmail.com\n",
            "3     103   Frances   Valoniah  Frances.Valoniah@yopmail.com\n",
            "4     104     Fawne    Ophelia     Fawne.Ophelia@yopmail.com\n",
            "..    ...       ...        ...                           ...\n",
            "995  1095    Keelia     Daegal     Keelia.Daegal@yopmail.com\n",
            "996  1096     Liana   Nicoline    Liana.Nicoline@yopmail.com\n",
            "997  1097    Gisela         An         Gisela.An@yopmail.com\n",
            "998  1098    Gratia    Jacobah    Gratia.Jacobah@yopmail.com\n",
            "999  1099    Gratia   Sikorski   Gratia.Sikorski@yopmail.com\n",
            "\n",
            "[1000 rows x 4 columns]\n"
          ]
        }
      ]
    },
    {
      "cell_type": "code",
      "source": [
        "# To get top few rows\n",
        "print(df.head(5))"
      ],
      "metadata": {
        "colab": {
          "base_uri": "https://localhost:8080/"
        },
        "id": "t82BYkzYOy1c",
        "outputId": "2eae7b14-2d55-4200-e07a-48e69a2aaec5"
      },
      "execution_count": null,
      "outputs": [
        {
          "output_type": "stream",
          "name": "stdout",
          "text": [
            "    id firstname   lastname                         email\n",
            "0  100     Jolyn    Aurelio     Jolyn.Aurelio@yopmail.com\n",
            "1  101    Jaclyn      Burch      Jaclyn.Burch@yopmail.com\n",
            "2  102      Bill  Hortensia    Bill.Hortensia@yopmail.com\n",
            "3  103   Frances   Valoniah  Frances.Valoniah@yopmail.com\n",
            "4  104     Fawne    Ophelia     Fawne.Ophelia@yopmail.com\n"
          ]
        }
      ]
    },
    {
      "cell_type": "code",
      "source": [
        "# To get bottom few rows\n",
        "print(df.tail(5))"
      ],
      "metadata": {
        "colab": {
          "base_uri": "https://localhost:8080/"
        },
        "id": "tn7bPBwsmrDe",
        "outputId": "29cea92f-5e91-4883-b8b6-cd62e46f5728"
      },
      "execution_count": null,
      "outputs": [
        {
          "output_type": "stream",
          "name": "stdout",
          "text": [
            "       id firstname  lastname                        email\n",
            "995  1095    Keelia    Daegal    Keelia.Daegal@yopmail.com\n",
            "996  1096     Liana  Nicoline   Liana.Nicoline@yopmail.com\n",
            "997  1097    Gisela        An        Gisela.An@yopmail.com\n",
            "998  1098    Gratia   Jacobah   Gratia.Jacobah@yopmail.com\n",
            "999  1099    Gratia  Sikorski  Gratia.Sikorski@yopmail.com\n"
          ]
        }
      ]
    },
    {
      "cell_type": "code",
      "source": [
        "print(df.to_string())"
      ],
      "metadata": {
        "colab": {
          "base_uri": "https://localhost:8080/"
        },
        "id": "6Di7LsQFPe8Z",
        "outputId": "03f4993e-b662-4ebf-a813-21aef3d9c324"
      },
      "execution_count": null,
      "outputs": [
        {
          "output_type": "stream",
          "name": "stdout",
          "text": [
            "   calories  duration\n",
            "0       420        50\n",
            "1       380        40\n",
            "2       390        45\n"
          ]
        }
      ]
    },
    {
      "cell_type": "code",
      "source": [
        "print(pd.options.display.max_rows)"
      ],
      "metadata": {
        "colab": {
          "base_uri": "https://localhost:8080/"
        },
        "id": "9zCn9POBP49q",
        "outputId": "626393aa-38e2-47f0-c39a-2aa04fb9cbfd"
      },
      "execution_count": null,
      "outputs": [
        {
          "output_type": "stream",
          "name": "stdout",
          "text": [
            "60\n"
          ]
        }
      ]
    },
    {
      "cell_type": "code",
      "source": [
        "pd.options.display.max_rows = 30\n",
        "print(pd.options.display.max_rows)"
      ],
      "metadata": {
        "colab": {
          "base_uri": "https://localhost:8080/"
        },
        "id": "6vvAdMCNQCF4",
        "outputId": "eb3751ff-e357-439d-98bd-4ec79c5ff8fe"
      },
      "execution_count": null,
      "outputs": [
        {
          "output_type": "stream",
          "name": "stdout",
          "text": [
            "30\n"
          ]
        }
      ]
    },
    {
      "cell_type": "markdown",
      "source": [
        "**JSON to DataFrame**"
      ],
      "metadata": {
        "id": "6CMuKTLWjhGC"
      }
    },
    {
      "cell_type": "code",
      "source": [
        "url_json = 'https://drive.google.com/file/d/1C9y9oGIkHTP9yFkbSEmy9iZUbfY8YCW6/view?usp=sharing'\n",
        "\n",
        "export_url_json = 'https://drive.google.com/uc?export=download&id=1C9y9oGIkHTP9yFkbSEmy9iZUbfY8YCW6'\n",
        "\n",
        "df = pd.read_json(export_url_json)\n",
        "print(df.head(5))"
      ],
      "metadata": {
        "colab": {
          "base_uri": "https://localhost:8080/"
        },
        "id": "KQmNGLpERV8X",
        "outputId": "6629596c-c3ea-4a2f-eb13-ef80d3db3052"
      },
      "execution_count": null,
      "outputs": [
        {
          "output_type": "stream",
          "name": "stdout",
          "text": [
            "   Duration  Pulse  Maxpulse  Calories\n",
            "0        60    110       130     409.1\n",
            "1        60    117       145     479.0\n",
            "2        60    103       135     340.0\n",
            "3        45    109       175     282.4\n",
            "4        45    117       148     406.0\n"
          ]
        }
      ]
    },
    {
      "cell_type": "markdown",
      "source": [
        "If the json data is not in external file then we can directly convert into dataframe using **DataFrame** method instead of **read_json**"
      ],
      "metadata": {
        "id": "O-lOFbZcmROD"
      }
    },
    {
      "cell_type": "code",
      "source": [
        "# To get more detailed information of table\n",
        "print(df.info())"
      ],
      "metadata": {
        "colab": {
          "base_uri": "https://localhost:8080/"
        },
        "id": "Pp_49xJSmi3A",
        "outputId": "a897a124-687a-4e93-8f84-145ad108b9ef"
      },
      "execution_count": null,
      "outputs": [
        {
          "output_type": "stream",
          "name": "stdout",
          "text": [
            "<class 'pandas.core.frame.DataFrame'>\n",
            "Index: 169 entries, 0 to 168\n",
            "Data columns (total 4 columns):\n",
            " #   Column    Non-Null Count  Dtype  \n",
            "---  ------    --------------  -----  \n",
            " 0   Duration  169 non-null    int64  \n",
            " 1   Pulse     169 non-null    int64  \n",
            " 2   Maxpulse  169 non-null    int64  \n",
            " 3   Calories  164 non-null    float64\n",
            "dtypes: float64(1), int64(3)\n",
            "memory usage: 6.6 KB\n",
            "None\n"
          ]
        }
      ]
    },
    {
      "cell_type": "markdown",
      "source": [
        "Adding a column"
      ],
      "metadata": {
        "id": "WUd4535Ynlhv"
      }
    },
    {
      "cell_type": "code",
      "source": [
        "# Lets add percentage of pulse w.r.t maxPulse\n",
        "df['Pulse Percent'] = 100.00*df['Pulse']/df['Maxpulse']\n",
        "print(df.head(5))"
      ],
      "metadata": {
        "colab": {
          "base_uri": "https://localhost:8080/"
        },
        "id": "jJWIVin7m6Wz",
        "outputId": "82c8f3e6-f3f3-441c-801c-eec6fc50450b"
      },
      "execution_count": null,
      "outputs": [
        {
          "output_type": "stream",
          "name": "stdout",
          "text": [
            "   Duration  Pulse  Maxpulse  Calories  Pulse Percent\n",
            "0        60    110       130     409.1      84.615385\n",
            "1        60    117       145     479.0      80.689655\n",
            "2        60    103       135     340.0      76.296296\n",
            "3        45    109       175     282.4      62.285714\n",
            "4        45    117       148     406.0      79.054054\n"
          ]
        }
      ]
    },
    {
      "cell_type": "code",
      "source": [
        "#we can create using assign method\n",
        "df.assign(PulsePercent = 100.00*df['Pulse']/df['Maxpulse'])\n",
        "print(df.head(5))"
      ],
      "metadata": {
        "colab": {
          "base_uri": "https://localhost:8080/"
        },
        "id": "C6HieGopocjp",
        "outputId": "9cef2508-0879-47a7-dc8e-47236af96383"
      },
      "execution_count": null,
      "outputs": [
        {
          "output_type": "stream",
          "name": "stdout",
          "text": [
            "   Duration  Pulse  Maxpulse  Calories  Pulse Percent\n",
            "0        60    110       130     409.1      84.615385\n",
            "1        60    117       145     479.0      80.689655\n",
            "2        60    103       135     340.0      76.296296\n",
            "3        45    109       175     282.4      62.285714\n",
            "4        45    117       148     406.0      79.054054\n"
          ]
        }
      ]
    },
    {
      "cell_type": "markdown",
      "source": [
        "#Cleaning of data"
      ],
      "metadata": {
        "id": "jszYb75bpD4q"
      }
    },
    {
      "cell_type": "code",
      "source": [
        "import pandas as pd\n",
        "\n",
        "data_url = 'https://drive.google.com/file/d/1EbM0dkb9T2paceCruFOItciCp6s17N3r/view?usp=sharing'\n",
        "export_url = 'https://drive.google.com/uc?export=download&id=1EbM0dkb9T2paceCruFOItciCp6s17N3r'\n",
        "\n",
        "df = pd.read_csv(export_url)\n",
        "print(df.info())"
      ],
      "metadata": {
        "colab": {
          "base_uri": "https://localhost:8080/"
        },
        "id": "xRiE_UtlQMWT",
        "outputId": "8a70ac5a-26b4-4ff1-c7dc-637258709f98"
      },
      "execution_count": null,
      "outputs": [
        {
          "output_type": "stream",
          "name": "stdout",
          "text": [
            "<class 'pandas.core.frame.DataFrame'>\n",
            "RangeIndex: 32 entries, 0 to 31\n",
            "Data columns (total 5 columns):\n",
            " #   Column    Non-Null Count  Dtype  \n",
            "---  ------    --------------  -----  \n",
            " 0   Duration  32 non-null     int64  \n",
            " 1   Date      31 non-null     object \n",
            " 2   Pulse     32 non-null     int64  \n",
            " 3   Maxpulse  32 non-null     int64  \n",
            " 4   Calories  30 non-null     float64\n",
            "dtypes: float64(1), int64(3), object(1)\n",
            "memory usage: 1.4+ KB\n",
            "None\n"
          ]
        }
      ]
    },
    {
      "cell_type": "markdown",
      "source": [
        "**Remove rows of empty cells**"
      ],
      "metadata": {
        "id": "k44mhAlATvrq"
      }
    },
    {
      "cell_type": "markdown",
      "source": [
        "the dropna() method returns a new DataFrame, and will not change the original.\n",
        "\n",
        "If you want to change the original DataFrame, use the *inplace = True* argument:"
      ],
      "metadata": {
        "id": "tx_1BVGqUP5T"
      }
    },
    {
      "cell_type": "code",
      "source": [
        "df.dropna(inplace= True)"
      ],
      "metadata": {
        "id": "v0V1bZtxTvTb"
      },
      "execution_count": null,
      "outputs": []
    },
    {
      "cell_type": "markdown",
      "source": [
        "**Fill empty cells**"
      ],
      "metadata": {
        "id": "cgMyNVSWWRa1"
      }
    },
    {
      "cell_type": "code",
      "source": [
        "df.fillna(300, inplace=True)"
      ],
      "metadata": {
        "id": "R3JHPj-VUH2n"
      },
      "execution_count": null,
      "outputs": []
    },
    {
      "cell_type": "code",
      "source": [
        "# For specified column\n",
        "df.fillna({\"Calories\": 130}, inplace=True)"
      ],
      "metadata": {
        "id": "mght9D-GWzPE"
      },
      "execution_count": null,
      "outputs": []
    },
    {
      "cell_type": "code",
      "source": [
        "# mean, median, mode\n",
        "x = df['Calories'].mean()\n",
        "y = df['Calories'].mode()\n",
        "z = df['Calories'].median()\n",
        "\n",
        "print(x, y, z)"
      ],
      "metadata": {
        "colab": {
          "base_uri": "https://localhost:8080/"
        },
        "id": "tB8uJDYuW_oh",
        "outputId": "15865311-4546-4729-ea51-ed33c0c2d596"
      },
      "execution_count": null,
      "outputs": [
        {
          "output_type": "stream",
          "name": "stdout",
          "text": [
            "305.46206896551723 0    300.0\n",
            "Name: Calories, dtype: float64 300.0\n"
          ]
        }
      ]
    },
    {
      "cell_type": "markdown",
      "source": [
        "**Convert whole column into same datatype**"
      ],
      "metadata": {
        "id": "-Y1wxwTIb_dK"
      }
    },
    {
      "cell_type": "code",
      "source": [
        "df['Date'] = pd.to_datetime(df['Date'], format='mixed')"
      ],
      "metadata": {
        "id": "nnmEG7kgcHZ6"
      },
      "execution_count": null,
      "outputs": []
    },
    {
      "cell_type": "code",
      "source": [
        "df['Calories'] = df['Calories'].astype(int)"
      ],
      "metadata": {
        "id": "MkLknNtQsEjK"
      },
      "execution_count": null,
      "outputs": []
    },
    {
      "cell_type": "code",
      "source": [
        "#removing only rows which has empty date cell\n",
        "df.dropna(subset=['Date'], inplace = True)"
      ],
      "metadata": {
        "id": "zLb-9Y2CcUWT"
      },
      "execution_count": null,
      "outputs": []
    },
    {
      "cell_type": "code",
      "source": [
        "df.info()"
      ],
      "metadata": {
        "colab": {
          "base_uri": "https://localhost:8080/"
        },
        "id": "ie5j4S01cfxk",
        "outputId": "7d80bdb2-02d0-4812-d9f0-a5566b8f1178"
      },
      "execution_count": null,
      "outputs": [
        {
          "output_type": "stream",
          "name": "stdout",
          "text": [
            "<class 'pandas.core.frame.DataFrame'>\n",
            "Index: 31 entries, 0 to 31\n",
            "Data columns (total 5 columns):\n",
            " #   Column    Non-Null Count  Dtype         \n",
            "---  ------    --------------  -----         \n",
            " 0   Duration  31 non-null     int64         \n",
            " 1   Date      31 non-null     datetime64[ns]\n",
            " 2   Pulse     31 non-null     int64         \n",
            " 3   Maxpulse  31 non-null     int64         \n",
            " 4   Calories  29 non-null     float64       \n",
            "dtypes: datetime64[ns](1), float64(1), int64(3)\n",
            "memory usage: 1.5 KB\n"
          ]
        }
      ]
    },
    {
      "cell_type": "code",
      "source": [
        "#To replace wrong data like 450 instead 0f 45\n",
        "df.loc[7, 'Duration'] = 45"
      ],
      "metadata": {
        "id": "d0zHPR2IcnF5"
      },
      "execution_count": null,
      "outputs": []
    },
    {
      "cell_type": "code",
      "source": [
        "# for bigger sets\n",
        "for x in df.index:\n",
        "  if df.loc[x, \"Duration\"] > 120:\n",
        "    df.loc[x, \"Duration\"] = 120"
      ],
      "metadata": {
        "id": "9ND6GKGhiB3Z"
      },
      "execution_count": null,
      "outputs": []
    },
    {
      "cell_type": "code",
      "source": [
        "# removing row while checking conditions\n",
        "for x in df.index:\n",
        "  if df.loc[x, \"Duration\"] > 120:\n",
        "    df.drop(x, inplace = True)"
      ],
      "metadata": {
        "id": "LldnXNX0iMjd"
      },
      "execution_count": null,
      "outputs": []
    },
    {
      "cell_type": "markdown",
      "source": [
        "**Handling duplicates**"
      ],
      "metadata": {
        "id": "RYHwea_hiVgj"
      }
    },
    {
      "cell_type": "code",
      "source": [
        "print(df.duplicated())"
      ],
      "metadata": {
        "colab": {
          "base_uri": "https://localhost:8080/"
        },
        "id": "iPe3JG6IilFd",
        "outputId": "634d6a4d-e0ab-4cda-9110-e74db7a6bda8"
      },
      "execution_count": null,
      "outputs": [
        {
          "output_type": "stream",
          "name": "stdout",
          "text": [
            "0     False\n",
            "1     False\n",
            "2     False\n",
            "3     False\n",
            "4     False\n",
            "5     False\n",
            "6     False\n",
            "7     False\n",
            "8     False\n",
            "9     False\n",
            "10    False\n",
            "11    False\n",
            "12     True\n",
            "13    False\n",
            "14    False\n",
            "15    False\n",
            "16    False\n",
            "17    False\n",
            "18    False\n",
            "19    False\n",
            "20    False\n",
            "21    False\n",
            "23    False\n",
            "24    False\n",
            "25    False\n",
            "26    False\n",
            "27    False\n",
            "28    False\n",
            "29    False\n",
            "30    False\n",
            "31    False\n",
            "dtype: bool\n"
          ]
        }
      ]
    },
    {
      "cell_type": "code",
      "source": [
        "# check whether whole row is same and delete it\n",
        "df.drop_duplicates(inplace = True)"
      ],
      "metadata": {
        "id": "Pbqwrx1tirjN"
      },
      "execution_count": null,
      "outputs": []
    },
    {
      "cell_type": "code",
      "source": [
        "# check duplicates only in the particular column and delete the row\n",
        "df.drop_duplicates(inplace = True, subset=['Date'])"
      ],
      "metadata": {
        "id": "PNBd2dAbjJCN"
      },
      "execution_count": null,
      "outputs": []
    },
    {
      "cell_type": "markdown",
      "source": [
        "**Correlation of data**"
      ],
      "metadata": {
        "id": "0Lf7MrictbUS"
      }
    },
    {
      "cell_type": "code",
      "source": [
        "df.select_dtypes(include=['number']).corr()"
      ],
      "metadata": {
        "colab": {
          "base_uri": "https://localhost:8080/",
          "height": 175
        },
        "id": "-HafHy3PtaIv",
        "outputId": "793cdb90-e988-4d92-e278-b12f4cc5c903"
      },
      "execution_count": null,
      "outputs": [
        {
          "output_type": "execute_result",
          "data": {
            "text/plain": [
              "          Duration     Pulse  Maxpulse  Calories\n",
              "Duration  1.000000 -0.022571  0.029123 -0.119243\n",
              "Pulse    -0.022571  1.000000  0.211055  0.510554\n",
              "Maxpulse  0.029123  0.211055  1.000000  0.352051\n",
              "Calories -0.119243  0.510554  0.352051  1.000000"
            ],
            "text/html": [
              "\n",
              "  <div id=\"df-b23bfc9e-742a-4cbc-b6db-05e2ef2a9a2d\" class=\"colab-df-container\">\n",
              "    <div>\n",
              "<style scoped>\n",
              "    .dataframe tbody tr th:only-of-type {\n",
              "        vertical-align: middle;\n",
              "    }\n",
              "\n",
              "    .dataframe tbody tr th {\n",
              "        vertical-align: top;\n",
              "    }\n",
              "\n",
              "    .dataframe thead th {\n",
              "        text-align: right;\n",
              "    }\n",
              "</style>\n",
              "<table border=\"1\" class=\"dataframe\">\n",
              "  <thead>\n",
              "    <tr style=\"text-align: right;\">\n",
              "      <th></th>\n",
              "      <th>Duration</th>\n",
              "      <th>Pulse</th>\n",
              "      <th>Maxpulse</th>\n",
              "      <th>Calories</th>\n",
              "    </tr>\n",
              "  </thead>\n",
              "  <tbody>\n",
              "    <tr>\n",
              "      <th>Duration</th>\n",
              "      <td>1.000000</td>\n",
              "      <td>-0.022571</td>\n",
              "      <td>0.029123</td>\n",
              "      <td>-0.119243</td>\n",
              "    </tr>\n",
              "    <tr>\n",
              "      <th>Pulse</th>\n",
              "      <td>-0.022571</td>\n",
              "      <td>1.000000</td>\n",
              "      <td>0.211055</td>\n",
              "      <td>0.510554</td>\n",
              "    </tr>\n",
              "    <tr>\n",
              "      <th>Maxpulse</th>\n",
              "      <td>0.029123</td>\n",
              "      <td>0.211055</td>\n",
              "      <td>1.000000</td>\n",
              "      <td>0.352051</td>\n",
              "    </tr>\n",
              "    <tr>\n",
              "      <th>Calories</th>\n",
              "      <td>-0.119243</td>\n",
              "      <td>0.510554</td>\n",
              "      <td>0.352051</td>\n",
              "      <td>1.000000</td>\n",
              "    </tr>\n",
              "  </tbody>\n",
              "</table>\n",
              "</div>\n",
              "    <div class=\"colab-df-buttons\">\n",
              "\n",
              "  <div class=\"colab-df-container\">\n",
              "    <button class=\"colab-df-convert\" onclick=\"convertToInteractive('df-b23bfc9e-742a-4cbc-b6db-05e2ef2a9a2d')\"\n",
              "            title=\"Convert this dataframe to an interactive table.\"\n",
              "            style=\"display:none;\">\n",
              "\n",
              "  <svg xmlns=\"http://www.w3.org/2000/svg\" height=\"24px\" viewBox=\"0 -960 960 960\">\n",
              "    <path d=\"M120-120v-720h720v720H120Zm60-500h600v-160H180v160Zm220 220h160v-160H400v160Zm0 220h160v-160H400v160ZM180-400h160v-160H180v160Zm440 0h160v-160H620v160ZM180-180h160v-160H180v160Zm440 0h160v-160H620v160Z\"/>\n",
              "  </svg>\n",
              "    </button>\n",
              "\n",
              "  <style>\n",
              "    .colab-df-container {\n",
              "      display:flex;\n",
              "      gap: 12px;\n",
              "    }\n",
              "\n",
              "    .colab-df-convert {\n",
              "      background-color: #E8F0FE;\n",
              "      border: none;\n",
              "      border-radius: 50%;\n",
              "      cursor: pointer;\n",
              "      display: none;\n",
              "      fill: #1967D2;\n",
              "      height: 32px;\n",
              "      padding: 0 0 0 0;\n",
              "      width: 32px;\n",
              "    }\n",
              "\n",
              "    .colab-df-convert:hover {\n",
              "      background-color: #E2EBFA;\n",
              "      box-shadow: 0px 1px 2px rgba(60, 64, 67, 0.3), 0px 1px 3px 1px rgba(60, 64, 67, 0.15);\n",
              "      fill: #174EA6;\n",
              "    }\n",
              "\n",
              "    .colab-df-buttons div {\n",
              "      margin-bottom: 4px;\n",
              "    }\n",
              "\n",
              "    [theme=dark] .colab-df-convert {\n",
              "      background-color: #3B4455;\n",
              "      fill: #D2E3FC;\n",
              "    }\n",
              "\n",
              "    [theme=dark] .colab-df-convert:hover {\n",
              "      background-color: #434B5C;\n",
              "      box-shadow: 0px 1px 3px 1px rgba(0, 0, 0, 0.15);\n",
              "      filter: drop-shadow(0px 1px 2px rgba(0, 0, 0, 0.3));\n",
              "      fill: #FFFFFF;\n",
              "    }\n",
              "  </style>\n",
              "\n",
              "    <script>\n",
              "      const buttonEl =\n",
              "        document.querySelector('#df-b23bfc9e-742a-4cbc-b6db-05e2ef2a9a2d button.colab-df-convert');\n",
              "      buttonEl.style.display =\n",
              "        google.colab.kernel.accessAllowed ? 'block' : 'none';\n",
              "\n",
              "      async function convertToInteractive(key) {\n",
              "        const element = document.querySelector('#df-b23bfc9e-742a-4cbc-b6db-05e2ef2a9a2d');\n",
              "        const dataTable =\n",
              "          await google.colab.kernel.invokeFunction('convertToInteractive',\n",
              "                                                    [key], {});\n",
              "        if (!dataTable) return;\n",
              "\n",
              "        const docLinkHtml = 'Like what you see? Visit the ' +\n",
              "          '<a target=\"_blank\" href=https://colab.research.google.com/notebooks/data_table.ipynb>data table notebook</a>'\n",
              "          + ' to learn more about interactive tables.';\n",
              "        element.innerHTML = '';\n",
              "        dataTable['output_type'] = 'display_data';\n",
              "        await google.colab.output.renderOutput(dataTable, element);\n",
              "        const docLink = document.createElement('div');\n",
              "        docLink.innerHTML = docLinkHtml;\n",
              "        element.appendChild(docLink);\n",
              "      }\n",
              "    </script>\n",
              "  </div>\n",
              "\n",
              "\n",
              "    <div id=\"df-b5bf1fbe-035b-4d3d-a783-346c92aadcb3\">\n",
              "      <button class=\"colab-df-quickchart\" onclick=\"quickchart('df-b5bf1fbe-035b-4d3d-a783-346c92aadcb3')\"\n",
              "                title=\"Suggest charts\"\n",
              "                style=\"display:none;\">\n",
              "\n",
              "<svg xmlns=\"http://www.w3.org/2000/svg\" height=\"24px\"viewBox=\"0 0 24 24\"\n",
              "     width=\"24px\">\n",
              "    <g>\n",
              "        <path d=\"M19 3H5c-1.1 0-2 .9-2 2v14c0 1.1.9 2 2 2h14c1.1 0 2-.9 2-2V5c0-1.1-.9-2-2-2zM9 17H7v-7h2v7zm4 0h-2V7h2v10zm4 0h-2v-4h2v4z\"/>\n",
              "    </g>\n",
              "</svg>\n",
              "      </button>\n",
              "\n",
              "<style>\n",
              "  .colab-df-quickchart {\n",
              "      --bg-color: #E8F0FE;\n",
              "      --fill-color: #1967D2;\n",
              "      --hover-bg-color: #E2EBFA;\n",
              "      --hover-fill-color: #174EA6;\n",
              "      --disabled-fill-color: #AAA;\n",
              "      --disabled-bg-color: #DDD;\n",
              "  }\n",
              "\n",
              "  [theme=dark] .colab-df-quickchart {\n",
              "      --bg-color: #3B4455;\n",
              "      --fill-color: #D2E3FC;\n",
              "      --hover-bg-color: #434B5C;\n",
              "      --hover-fill-color: #FFFFFF;\n",
              "      --disabled-bg-color: #3B4455;\n",
              "      --disabled-fill-color: #666;\n",
              "  }\n",
              "\n",
              "  .colab-df-quickchart {\n",
              "    background-color: var(--bg-color);\n",
              "    border: none;\n",
              "    border-radius: 50%;\n",
              "    cursor: pointer;\n",
              "    display: none;\n",
              "    fill: var(--fill-color);\n",
              "    height: 32px;\n",
              "    padding: 0;\n",
              "    width: 32px;\n",
              "  }\n",
              "\n",
              "  .colab-df-quickchart:hover {\n",
              "    background-color: var(--hover-bg-color);\n",
              "    box-shadow: 0 1px 2px rgba(60, 64, 67, 0.3), 0 1px 3px 1px rgba(60, 64, 67, 0.15);\n",
              "    fill: var(--button-hover-fill-color);\n",
              "  }\n",
              "\n",
              "  .colab-df-quickchart-complete:disabled,\n",
              "  .colab-df-quickchart-complete:disabled:hover {\n",
              "    background-color: var(--disabled-bg-color);\n",
              "    fill: var(--disabled-fill-color);\n",
              "    box-shadow: none;\n",
              "  }\n",
              "\n",
              "  .colab-df-spinner {\n",
              "    border: 2px solid var(--fill-color);\n",
              "    border-color: transparent;\n",
              "    border-bottom-color: var(--fill-color);\n",
              "    animation:\n",
              "      spin 1s steps(1) infinite;\n",
              "  }\n",
              "\n",
              "  @keyframes spin {\n",
              "    0% {\n",
              "      border-color: transparent;\n",
              "      border-bottom-color: var(--fill-color);\n",
              "      border-left-color: var(--fill-color);\n",
              "    }\n",
              "    20% {\n",
              "      border-color: transparent;\n",
              "      border-left-color: var(--fill-color);\n",
              "      border-top-color: var(--fill-color);\n",
              "    }\n",
              "    30% {\n",
              "      border-color: transparent;\n",
              "      border-left-color: var(--fill-color);\n",
              "      border-top-color: var(--fill-color);\n",
              "      border-right-color: var(--fill-color);\n",
              "    }\n",
              "    40% {\n",
              "      border-color: transparent;\n",
              "      border-right-color: var(--fill-color);\n",
              "      border-top-color: var(--fill-color);\n",
              "    }\n",
              "    60% {\n",
              "      border-color: transparent;\n",
              "      border-right-color: var(--fill-color);\n",
              "    }\n",
              "    80% {\n",
              "      border-color: transparent;\n",
              "      border-right-color: var(--fill-color);\n",
              "      border-bottom-color: var(--fill-color);\n",
              "    }\n",
              "    90% {\n",
              "      border-color: transparent;\n",
              "      border-bottom-color: var(--fill-color);\n",
              "    }\n",
              "  }\n",
              "</style>\n",
              "\n",
              "      <script>\n",
              "        async function quickchart(key) {\n",
              "          const quickchartButtonEl =\n",
              "            document.querySelector('#' + key + ' button');\n",
              "          quickchartButtonEl.disabled = true;  // To prevent multiple clicks.\n",
              "          quickchartButtonEl.classList.add('colab-df-spinner');\n",
              "          try {\n",
              "            const charts = await google.colab.kernel.invokeFunction(\n",
              "                'suggestCharts', [key], {});\n",
              "          } catch (error) {\n",
              "            console.error('Error during call to suggestCharts:', error);\n",
              "          }\n",
              "          quickchartButtonEl.classList.remove('colab-df-spinner');\n",
              "          quickchartButtonEl.classList.add('colab-df-quickchart-complete');\n",
              "        }\n",
              "        (() => {\n",
              "          let quickchartButtonEl =\n",
              "            document.querySelector('#df-b5bf1fbe-035b-4d3d-a783-346c92aadcb3 button');\n",
              "          quickchartButtonEl.style.display =\n",
              "            google.colab.kernel.accessAllowed ? 'block' : 'none';\n",
              "        })();\n",
              "      </script>\n",
              "    </div>\n",
              "\n",
              "    </div>\n",
              "  </div>\n"
            ],
            "application/vnd.google.colaboratory.intrinsic+json": {
              "type": "dataframe",
              "summary": "{\n  \"name\": \"df\",\n  \"rows\": 4,\n  \"fields\": [\n    {\n      \"column\": \"Duration\",\n      \"properties\": {\n        \"dtype\": \"number\",\n        \"std\": 0.5224134749606547,\n        \"min\": -0.1192432216310177,\n        \"max\": 1.0,\n        \"num_unique_values\": 4,\n        \"samples\": [\n          -0.02257105050351905,\n          -0.1192432216310177,\n          1.0\n        ],\n        \"semantic_type\": \"\",\n        \"description\": \"\"\n      }\n    },\n    {\n      \"column\": \"Pulse\",\n      \"properties\": {\n        \"dtype\": \"number\",\n        \"std\": 0.44122429150653414,\n        \"min\": -0.02257105050351905,\n        \"max\": 1.0,\n        \"num_unique_values\": 4,\n        \"samples\": [\n          1.0,\n          0.5105541676996687,\n          -0.02257105050351905\n        ],\n        \"semantic_type\": \"\",\n        \"description\": \"\"\n      }\n    },\n    {\n      \"column\": \"Maxpulse\",\n      \"properties\": {\n        \"dtype\": \"number\",\n        \"std\": 0.4225061564773879,\n        \"min\": 0.029122575144028558,\n        \"max\": 1.0,\n        \"num_unique_values\": 4,\n        \"samples\": [\n          0.21105492123154826,\n          0.3520505414603947,\n          0.029122575144028558\n        ],\n        \"semantic_type\": \"\",\n        \"description\": \"\"\n      }\n    },\n    {\n      \"column\": \"Calories\",\n      \"properties\": {\n        \"dtype\": \"number\",\n        \"std\": 0.46151806347932933,\n        \"min\": -0.1192432216310177,\n        \"max\": 1.0,\n        \"num_unique_values\": 4,\n        \"samples\": [\n          0.5105541676996687,\n          1.0,\n          -0.1192432216310177\n        ],\n        \"semantic_type\": \"\",\n        \"description\": \"\"\n      }\n    }\n  ]\n}"
            }
          },
          "metadata": {},
          "execution_count": 31
        }
      ]
    },
    {
      "cell_type": "markdown",
      "source": [
        "# Plotting of data"
      ],
      "metadata": {
        "id": "-u9Fml_3umxB"
      }
    },
    {
      "cell_type": "code",
      "source": [
        "import matplotlib.pyplot as plt\n",
        "import pandas as pd\n",
        "\n",
        "export_url = 'https://drive.google.com/uc?export=download&id=1EbM0dkb9T2paceCruFOItciCp6s17N3r'\n",
        "\n",
        "df = pd.read_csv(export_url)\n",
        "df.plot()\n",
        "plt.show()"
      ],
      "metadata": {
        "colab": {
          "base_uri": "https://localhost:8080/",
          "height": 434
        },
        "id": "seQhtoIKuqmH",
        "outputId": "a5c67208-48f6-4580-a1e0-408e22f04cea"
      },
      "execution_count": null,
      "outputs": [
        {
          "output_type": "display_data",
          "data": {
            "text/plain": [
              "<Figure size 640x480 with 1 Axes>"
            ],
            "image/png": "[encoded data removed]"
          },
          "metadata": {}
        }
      ]
    },
    {
      "cell_type": "code",
      "source": [
        "# scatter plot\n",
        "df.plot(kind = 'scatter', x = 'Pulse', y = 'Calories')\n",
        "df.plot(kind = 'scatter', x = 'Duration', y = 'Calories')\n",
        "plt.show()"
      ],
      "metadata": {
        "colab": {
          "base_uri": "https://localhost:8080/",
          "height": 881
        },
        "id": "0Y3U9WJGvM3V",
        "outputId": "0dd60aa9-eb4f-4b90-df12-578e79be019b"
      },
      "execution_count": null,
      "outputs": [
        {
          "output_type": "display_data",
          "data": {
            "text/plain": [
              "<Figure size 640x480 with 1 Axes>"
            ],
            "image/png": "[encoded data removed]"
          },
          "metadata": {}
        },
        {
          "output_type": "display_data",
          "data": {
            "text/plain": [
              "<Figure size 640x480 with 1 Axes>"
            ],
            "image/png": "[encoded data removed]"
          },
          "metadata": {}
        }
      ]
    },
    {
      "cell_type": "code",
      "source": [
        "#histogram\n",
        "df[\"Calories\"].plot(kind = 'hist')"
      ],
      "metadata": {
        "colab": {
          "base_uri": "https://localhost:8080/",
          "height": 447
        },
        "id": "4E6RVoO3v4dR",
        "outputId": "60da3239-b01f-4dac-9b3f-49cc49d5e052"
      },
      "execution_count": null,
      "outputs": [
        {
          "output_type": "execute_result",
          "data": {
            "text/plain": [
              "<Axes: ylabel='Frequency'>"
            ]
          },
          "metadata": {},
          "execution_count": 39
        },
        {
          "output_type": "display_data",
          "data": {
            "text/plain": [
              "<Figure size 640x480 with 1 Axes>"
            ],
            "image/png": "[encoded data removed]"
          },
          "metadata": {}
        }
      ]
    },
    {
      "cell_type": "markdown",
      "source": [
        "#Table reshaping"
      ],
      "metadata": {
        "id": "p3AOosseBjob"
      }
    },
    {
      "cell_type": "code",
      "source": [
        "# concate of two dataframes\n",
        "\n",
        "import pandas as pd\n",
        "\n",
        "data1 = [[1,90,9], [2,86,9], [3,92,9]]\n",
        "data2 = [[1,95,10], [2,82,10], [3,88,10]]\n",
        "df1 = pd.DataFrame(data1, columns=['student_id','marks','class'])\n",
        "df2 = pd.DataFrame(data2, columns=['student_id','marks','class'])\n",
        "\n",
        "df = pd.concat([df1, df2])\n",
        "print(df)"
      ],
      "metadata": {
        "colab": {
          "base_uri": "https://localhost:8080/"
        },
        "id": "rZcP8UUqB1FO",
        "outputId": "54e1de0b-d821-420b-97f6-518c4f1c23d5"
      },
      "execution_count": null,
      "outputs": [
        {
          "output_type": "stream",
          "name": "stdout",
          "text": [
            "   student_id  marks  class\n",
            "0           1     90      9\n",
            "1           2     86      9\n",
            "2           3     92      9\n",
            "0           1     95     10\n",
            "1           2     82     10\n",
            "2           3     88     10\n"
          ]
        }
      ]
    },
    {
      "cell_type": "code",
      "source": [
        "# pivot the table of 2 ages\n",
        "pivot = df.pivot(index='student_id', columns='class', values='marks')\n",
        "pivot = pivot.reset_index()\n",
        "print(pivot)"
      ],
      "metadata": {
        "colab": {
          "base_uri": "https://localhost:8080/"
        },
        "id": "V-N9ufXGJFw-",
        "outputId": "954f31ba-171f-4d2a-95e3-1a6864296e8c"
      },
      "execution_count": null,
      "outputs": [
        {
          "output_type": "stream",
          "name": "stdout",
          "text": [
            "class  student_id   9  10\n",
            "0               1  90  95\n",
            "1               2  86  82\n",
            "2               3  92  88\n"
          ]
        }
      ]
    },
    {
      "cell_type": "code",
      "source": [
        "#now melt those table back\n",
        "melted = pd.melt(pivot, id_vars=['student_id'], var_name='class', value_name='marks')\n",
        "print(melted)"
      ],
      "metadata": {
        "colab": {
          "base_uri": "https://localhost:8080/"
        },
        "id": "Oah68BynLjSd",
        "outputId": "c61d5ef7-157a-4349-f8ff-79ec6565d8d7"
      },
      "execution_count": null,
      "outputs": [
        {
          "output_type": "stream",
          "name": "stdout",
          "text": [
            "   student_id class  marks\n",
            "0           1     9     90\n",
            "1           2     9     86\n",
            "2           3     9     92\n",
            "3           1    10     95\n",
            "4           2    10     82\n",
            "5           3    10     88\n"
          ]
        }
      ]
    },
    {
      "cell_type": "markdown",
      "source": [
        "# Table Joining"
      ],
      "metadata": {
        "id": "uFRb6-OnfGuv"
      }
    },
    {
      "cell_type": "code",
      "source": [
        "# sample_data\n",
        "import pandas as pd\n",
        "data1 = [[1,90,9], [2,86,9], [3,92,9]]\n",
        "data2 = [[3,95,10], [5,82,10], [2,88,10]]\n",
        "df1 = pd.DataFrame(data1, columns=['student_id','marks','class'])\n",
        "df2 = pd.DataFrame(data2, columns=['student_id','marks','class'])"
      ],
      "metadata": {
        "id": "TOa1VgvTfJdf"
      },
      "execution_count": null,
      "outputs": []
    },
    {
      "cell_type": "markdown",
      "source": [
        "**isin** function to add tables"
      ],
      "metadata": {
        "id": "KEs5lZVjgaCa"
      }
    },
    {
      "cell_type": "code",
      "source": [
        "#leftjoin (1 in 2)\n",
        "df1[~df1['student_id'].isin(df2['student_id'])] # ~ means not"
      ],
      "metadata": {
        "colab": {
          "base_uri": "https://localhost:8080/",
          "height": 81
        },
        "id": "M8KPBm8ngNqe",
        "outputId": "e50f1e60-2b3a-4fc2-87df-e8336c03b69d"
      },
      "execution_count": null,
      "outputs": [
        {
          "output_type": "execute_result",
          "data": {
            "text/plain": [
              "   student_id  marks  class\n",
              "0           1     90      9"
            ],
            "text/html": [
              "\n",
              "  <div id=\"df-6e341376-9f6b-45f7-9ef6-f6a2dfe7456c\" class=\"colab-df-container\">\n",
              "    <div>\n",
              "<style scoped>\n",
              "    .dataframe tbody tr th:only-of-type {\n",
              "        vertical-align: middle;\n",
              "    }\n",
              "\n",
              "    .dataframe tbody tr th {\n",
              "        vertical-align: top;\n",
              "    }\n",
              "\n",
              "    .dataframe thead th {\n",
              "        text-align: right;\n",
              "    }\n",
              "</style>\n",
              "<table border=\"1\" class=\"dataframe\">\n",
              "  <thead>\n",
              "    <tr style=\"text-align: right;\">\n",
              "      <th></th>\n",
              "      <th>student_id</th>\n",
              "      <th>marks</th>\n",
              "      <th>class</th>\n",
              "    </tr>\n",
              "  </thead>\n",
              "  <tbody>\n",
              "    <tr>\n",
              "      <th>0</th>\n",
              "      <td>1</td>\n",
              "      <td>90</td>\n",
              "      <td>9</td>\n",
              "    </tr>\n",
              "  </tbody>\n",
              "</table>\n",
              "</div>\n",
              "    <div class=\"colab-df-buttons\">\n",
              "\n",
              "  <div class=\"colab-df-container\">\n",
              "    <button class=\"colab-df-convert\" onclick=\"convertToInteractive('df-6e341376-9f6b-45f7-9ef6-f6a2dfe7456c')\"\n",
              "            title=\"Convert this dataframe to an interactive table.\"\n",
              "            style=\"display:none;\">\n",
              "\n",
              "  <svg xmlns=\"http://www.w3.org/2000/svg\" height=\"24px\" viewBox=\"0 -960 960 960\">\n",
              "    <path d=\"M120-120v-720h720v720H120Zm60-500h600v-160H180v160Zm220 220h160v-160H400v160Zm0 220h160v-160H400v160ZM180-400h160v-160H180v160Zm440 0h160v-160H620v160ZM180-180h160v-160H180v160Zm440 0h160v-160H620v160Z\"/>\n",
              "  </svg>\n",
              "    </button>\n",
              "\n",
              "  <style>\n",
              "    .colab-df-container {\n",
              "      display:flex;\n",
              "      gap: 12px;\n",
              "    }\n",
              "\n",
              "    .colab-df-convert {\n",
              "      background-color: #E8F0FE;\n",
              "      border: none;\n",
              "      border-radius: 50%;\n",
              "      cursor: pointer;\n",
              "      display: none;\n",
              "      fill: #1967D2;\n",
              "      height: 32px;\n",
              "      padding: 0 0 0 0;\n",
              "      width: 32px;\n",
              "    }\n",
              "\n",
              "    .colab-df-convert:hover {\n",
              "      background-color: #E2EBFA;\n",
              "      box-shadow: 0px 1px 2px rgba(60, 64, 67, 0.3), 0px 1px 3px 1px rgba(60, 64, 67, 0.15);\n",
              "      fill: #174EA6;\n",
              "    }\n",
              "\n",
              "    .colab-df-buttons div {\n",
              "      margin-bottom: 4px;\n",
              "    }\n",
              "\n",
              "    [theme=dark] .colab-df-convert {\n",
              "      background-color: #3B4455;\n",
              "      fill: #D2E3FC;\n",
              "    }\n",
              "\n",
              "    [theme=dark] .colab-df-convert:hover {\n",
              "      background-color: #434B5C;\n",
              "      box-shadow: 0px 1px 3px 1px rgba(0, 0, 0, 0.15);\n",
              "      filter: drop-shadow(0px 1px 2px rgba(0, 0, 0, 0.3));\n",
              "      fill: #FFFFFF;\n",
              "    }\n",
              "  </style>\n",
              "\n",
              "    <script>\n",
              "      const buttonEl =\n",
              "        document.querySelector('#df-6e341376-9f6b-45f7-9ef6-f6a2dfe7456c button.colab-df-convert');\n",
              "      buttonEl.style.display =\n",
              "        google.colab.kernel.accessAllowed ? 'block' : 'none';\n",
              "\n",
              "      async function convertToInteractive(key) {\n",
              "        const element = document.querySelector('#df-6e341376-9f6b-45f7-9ef6-f6a2dfe7456c');\n",
              "        const dataTable =\n",
              "          await google.colab.kernel.invokeFunction('convertToInteractive',\n",
              "                                                    [key], {});\n",
              "        if (!dataTable) return;\n",
              "\n",
              "        const docLinkHtml = 'Like what you see? Visit the ' +\n",
              "          '<a target=\"_blank\" href=https://colab.research.google.com/notebooks/data_table.ipynb>data table notebook</a>'\n",
              "          + ' to learn more about interactive tables.';\n",
              "        element.innerHTML = '';\n",
              "        dataTable['output_type'] = 'display_data';\n",
              "        await google.colab.output.renderOutput(dataTable, element);\n",
              "        const docLink = document.createElement('div');\n",
              "        docLink.innerHTML = docLinkHtml;\n",
              "        element.appendChild(docLink);\n",
              "      }\n",
              "    </script>\n",
              "  </div>\n",
              "\n",
              "\n",
              "    </div>\n",
              "  </div>\n"
            ],
            "application/vnd.google.colaboratory.intrinsic+json": {
              "type": "dataframe",
              "summary": "{\n  \"name\": \"df1[~df1['student_id']\",\n  \"rows\": 1,\n  \"fields\": [\n    {\n      \"column\": \"student_id\",\n      \"properties\": {\n        \"dtype\": \"number\",\n        \"std\": null,\n        \"min\": 1,\n        \"max\": 1,\n        \"num_unique_values\": 1,\n        \"samples\": [\n          1\n        ],\n        \"semantic_type\": \"\",\n        \"description\": \"\"\n      }\n    },\n    {\n      \"column\": \"marks\",\n      \"properties\": {\n        \"dtype\": \"number\",\n        \"std\": null,\n        \"min\": 90,\n        \"max\": 90,\n        \"num_unique_values\": 1,\n        \"samples\": [\n          90\n        ],\n        \"semantic_type\": \"\",\n        \"description\": \"\"\n      }\n    },\n    {\n      \"column\": \"class\",\n      \"properties\": {\n        \"dtype\": \"number\",\n        \"std\": null,\n        \"min\": 9,\n        \"max\": 9,\n        \"num_unique_values\": 1,\n        \"samples\": [\n          9\n        ],\n        \"semantic_type\": \"\",\n        \"description\": \"\"\n      }\n    }\n  ]\n}"
            }
          },
          "metadata": {},
          "execution_count": 5
        }
      ]
    },
    {
      "cell_type": "markdown",
      "source": [
        "To get unique values use **.unique** function which returns series (for sql DISTINCT)\n",
        "\n",
        "To know length of a cell, use **.str.len()** (for sql CHAR_LEN)\n",
        "\n"
      ],
      "metadata": {
        "id": "MJb4R0yjqTZX"
      }
    }
  ]
}